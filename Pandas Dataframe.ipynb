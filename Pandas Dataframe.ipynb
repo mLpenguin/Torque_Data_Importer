{
 "cells": [
  {
   "cell_type": "code",
   "execution_count": 2,
   "id": "98399c9c",
   "metadata": {},
   "outputs": [],
   "source": [
    "import pandas as pd\n",
    "import numpy as np"
   ]
  },
  {
   "cell_type": "code",
   "execution_count": 3,
   "id": "4b50d9e3",
   "metadata": {},
   "outputs": [],
   "source": [
    "import csv\n",
    "def readCSV(fileName):\n",
    "    outputArray = []\n",
    "    with open(fileName, 'r') as file:\n",
    "        reader = csv.reader(file, quoting=csv.QUOTE_ALL, skipinitialspace=True)\n",
    "        header = next(reader)\n",
    "        #next(reader, None)  # skip the headers\n",
    "        \n",
    "        for row in reader:\n",
    "            temp = []\n",
    "            for i in range(0,len(row)):\n",
    "                if row[i] != '':\n",
    "                    temp.append(row[i])\n",
    "            #print (row[0])\n",
    "            outputArray.append(temp)\n",
    "    return outputArray, header"
   ]
  },
  {
   "cell_type": "code",
   "execution_count": 4,
   "id": "54c39cbb",
   "metadata": {
    "scrolled": true
   },
   "outputs": [],
   "source": [
    "import os\n",
    "from glob import glob\n",
    "PATH = r\"C:\\Users\\truee\\OneDrive\\NextCloud\\Programming\\Python\\Torque_Parser\\tripLogs\"\n",
    "EXT = \"*.csv\"\n",
    "all_csv_files = [file\n",
    "                 for path, subdir, files in os.walk(PATH)\n",
    "                 for file in glob(os.path.join(path, EXT))]\n",
    "#print(all_csv_files)"
   ]
  },
  {
   "cell_type": "code",
   "execution_count": 17,
   "id": "30f6d7be",
   "metadata": {},
   "outputs": [],
   "source": [
    "masterData = []\n",
    "\n",
    "\n",
    "for x in range(len(all_csv_files)):\n",
    "    data, header = readCSV(all_csv_files[x])\n",
    "    if len(data) != 0:\n",
    "        df = pd.DataFrame(data = data, \n",
    "                    #index = [\"Row_1\", \"Row_2\"], \n",
    "                    columns = header)\n",
    "        df['Start Drive Time'] = all_csv_files[0].split('\\\\')[-2]\n",
    "        masterData.append(df)\n",
    "    \n",
    "    \n"
   ]
  },
  {
   "cell_type": "code",
   "execution_count": 18,
   "id": "2313179f",
   "metadata": {},
   "outputs": [],
   "source": [
    "df = pd.concat(masterData, axis=0, ignore_index=True)"
   ]
  },
  {
   "cell_type": "code",
   "execution_count": 19,
   "id": "5aa22199",
   "metadata": {},
   "outputs": [],
   "source": [
    "df = df.drop('GPS Time', axis=1)"
   ]
  },
  {
   "cell_type": "code",
   "execution_count": 20,
   "id": "82003a8b",
   "metadata": {},
   "outputs": [],
   "source": [
    "df['Device Time'] = pd.to_datetime(df['Device Time'])"
   ]
  },
  {
   "cell_type": "code",
   "execution_count": 21,
   "id": "8f9fe1a9",
   "metadata": {},
   "outputs": [],
   "source": [
    "df = df.set_index('Device Time')"
   ]
  },
  {
   "cell_type": "raw",
   "id": "67b5714d",
   "metadata": {},
   "source": [
    "df['Speed (OBD)(km/h)'] = df['Speed (OBD)(km/h)'].fillna(0.0)\n",
    "#df['Speed (OBD)(km/h)'].max()"
   ]
  },
  {
   "cell_type": "code",
   "execution_count": 22,
   "id": "55ab89e6",
   "metadata": {},
   "outputs": [],
   "source": [
    "df['Speed (OBD)(km/h)'] = df['Speed (OBD)(km/h)'].str.replace(\",\", \"\").astype(float)"
   ]
  },
  {
   "cell_type": "code",
   "execution_count": 23,
   "id": "8f4cfab2",
   "metadata": {},
   "outputs": [
    {
     "data": {
      "text/plain": [
       "136.0"
      ]
     },
     "execution_count": 23,
     "metadata": {},
     "output_type": "execute_result"
    }
   ],
   "source": [
    "df['Speed (OBD)(km/h)'].max()"
   ]
  },
  {
   "cell_type": "code",
   "execution_count": 24,
   "id": "6bb84808",
   "metadata": {},
   "outputs": [],
   "source": [
    "df = df.replace(' ', \"_\")\n",
    "\n",
    "#replace null values with nan\n",
    "df = df.replace('-', np.NaN)\n",
    "\n",
    "#clean up column names\n",
    "df.columns = df.columns.str.replace('Â', '') #fix temp column names\n",
    "df.columns = df.columns.str.replace('â‚‚', '2') #fix co2 column names"
   ]
  },
  {
   "cell_type": "code",
   "execution_count": 25,
   "id": "800b1a68",
   "metadata": {},
   "outputs": [],
   "source": [
    "df = df.apply(pd.to_numeric)"
   ]
  },
  {
   "cell_type": "code",
   "execution_count": 26,
   "id": "5e761f05",
   "metadata": {},
   "outputs": [
    {
     "name": "stdout",
     "output_type": "stream",
     "text": [
      "Longitude\n",
      "Latitude\n",
      "GPS Speed(km/h)\n",
      "Horizontal Dilution of Precision\n",
      "Altitude(m)\n",
      "Bearing\n",
      "Gravity X(G)\n",
      "Gravity Y(G)\n",
      "Gravity Z(G)\n",
      "Air Fuel Ratio(Measured)(:1)\n",
      "Ambient air temp(°F)\n",
      "Engine Coolant Temperature(°F)\n",
      "Engine Load(%)\n",
      "Engine RPM(rpm)\n",
      "Fuel Level (From Engine ECU)(%)\n",
      "Horsepower (At the wheels)(hp)\n",
      "Intake Air Temperature(°F)\n",
      "Intake Manifold Pressure(kpa)\n",
      "Speed (OBD)(km/h)\n",
      "Torque(ft-lb)\n",
      "Voltage (Control Module)(V)\n",
      "Fuel flow rate/minute(cc/min)\n",
      "Miles Per Gallon(Long Term Average)(mpg)\n",
      "CO2 in g/km (Average)(g/km)\n",
      "CO2 in g/km (Instantaneous)(g/km)\n",
      "Miles Per Gallon(Instant)(mpg)\n",
      "Start Drive Time\n"
     ]
    }
   ],
   "source": [
    "for col in df.columns:\n",
    "    print(col)"
   ]
  },
  {
   "cell_type": "code",
   "execution_count": 27,
   "id": "65d4b5fc",
   "metadata": {},
   "outputs": [
    {
     "data": {
      "text/plain": [
       "Longitude                                   float64\n",
       "Latitude                                    float64\n",
       "GPS Speed(km/h)                             float64\n",
       "Horizontal Dilution of Precision            float64\n",
       "Altitude(m)                                 float64\n",
       "Bearing                                     float64\n",
       "Gravity X(G)                                float64\n",
       "Gravity Y(G)                                float64\n",
       "Gravity Z(G)                                float64\n",
       "Air Fuel Ratio(Measured)(:1)                float64\n",
       "Ambient air temp(°F)                        float64\n",
       "Engine Coolant Temperature(°F)              float64\n",
       "Engine Load(%)                              float64\n",
       "Engine RPM(rpm)                             float64\n",
       "Fuel Level (From Engine ECU)(%)             float64\n",
       "Horsepower (At the wheels)(hp)              float64\n",
       "Intake Air Temperature(°F)                  float64\n",
       "Intake Manifold Pressure(kpa)               float64\n",
       "Speed (OBD)(km/h)                           float64\n",
       "Torque(ft-lb)                               float64\n",
       "Voltage (Control Module)(V)                 float64\n",
       "Fuel flow rate/minute(cc/min)               float64\n",
       "Miles Per Gallon(Long Term Average)(mpg)    float64\n",
       "CO2 in g/km (Average)(g/km)                 float64\n",
       "CO2 in g/km (Instantaneous)(g/km)           float64\n",
       "Miles Per Gallon(Instant)(mpg)              float64\n",
       "Start Drive Time                              int64\n",
       "dtype: object"
      ]
     },
     "execution_count": 27,
     "metadata": {},
     "output_type": "execute_result"
    }
   ],
   "source": [
    "df.dtypes"
   ]
  },
  {
   "cell_type": "code",
   "execution_count": 28,
   "id": "8e4d9cf4",
   "metadata": {},
   "outputs": [],
   "source": [
    "df.to_pickle(\"dataframe.pkl\")"
   ]
  },
  {
   "cell_type": "code",
   "execution_count": null,
   "id": "00903c3e",
   "metadata": {},
   "outputs": [],
   "source": []
  }
 ],
 "metadata": {
  "kernelspec": {
   "display_name": "Python 3",
   "language": "python",
   "name": "python3"
  },
  "language_info": {
   "codemirror_mode": {
    "name": "ipython",
    "version": 3
   },
   "file_extension": ".py",
   "mimetype": "text/x-python",
   "name": "python",
   "nbconvert_exporter": "python",
   "pygments_lexer": "ipython3",
   "version": "3.8.8"
  }
 },
 "nbformat": 4,
 "nbformat_minor": 5
}
