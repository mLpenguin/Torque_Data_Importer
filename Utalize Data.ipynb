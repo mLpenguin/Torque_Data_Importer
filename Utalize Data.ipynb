{
 "cells": [
  {
   "cell_type": "code",
   "execution_count": 1,
   "id": "d9be65b3",
   "metadata": {},
   "outputs": [],
   "source": [
    "import sqlite3 as sq\n",
    "import pandas as pd\n",
    "\n",
    "from datetime import datetime"
   ]
  },
  {
   "cell_type": "code",
   "execution_count": 2,
   "id": "cdfc6fc9",
   "metadata": {},
   "outputs": [],
   "source": [
    "databaseName = 'torque.db'\n",
    "importedTableName = 'importedFolderName'\n",
    "\n",
    "tableName = \"logData\"\n",
    "tempTableName = \"importData\""
   ]
  },
  {
   "cell_type": "code",
   "execution_count": 3,
   "id": "22397fd4",
   "metadata": {},
   "outputs": [],
   "source": [
    "con = sq.connect(databaseName)\n",
    "#cur = con.cursor()\n",
    "#cur.execute\n",
    "\n",
    "#with con:\n"
   ]
  },
  {
   "cell_type": "code",
   "execution_count": null,
   "id": "50e01521",
   "metadata": {},
   "outputs": [],
   "source": [
    "print( )"
   ]
  },
  {
   "cell_type": "code",
   "execution_count": null,
   "id": "7b690db4",
   "metadata": {},
   "outputs": [],
   "source": [
    "SELECT * FROM logData WHERE DATE(\"Device Time\") BETWEEN '2022-04-01' AND '2022-10-10'"
   ]
  },
  {
   "cell_type": "code",
   "execution_count": null,
   "id": "95b0c1a5",
   "metadata": {},
   "outputs": [],
   "source": [
    "getListOfAllDrives"
   ]
  },
  {
   "cell_type": "code",
   "execution_count": null,
   "id": "f557e47c",
   "metadata": {},
   "outputs": [],
   "source": [
    "def getListOfAllDrives(con):\n",
    "    cur = con.cursor()\n",
    "    getAllImportedFolder = f\"\"\"SELECT Folder FROM {importedTableName}\"\"\"\n",
    "    cur.execute(getAllImportedFolder)\n",
    "    epoch = cur.fetchall()\n",
    "\n",
    "    print(epoch[0][0])\n",
    "\n",
    "\n",
    "\n",
    "    toDataFrame = []\n",
    "    for x in range(len(epoch)):\n",
    "        e = int(epoch[x][0])/1000 #need to divide cuz in ms\n",
    "\n",
    "        temp = [int(epoch[x][0]), e, datetime.fromtimestamp(e).strftime('%m-%d-%Y'), datetime.fromtimestamp(e).strftime('%H:%M')]\n",
    "\n",
    "        toDataFrame.append(temp)\n",
    "\n",
    "    toDataFrame\n",
    "    df = pd.DataFrame(toDataFrame, columns = ['Folder_Name','Epoch','Date', 'Time'])\n",
    "    df.set_index('Folder_Name', inplace=True)\n",
    "    return df"
   ]
  },
  {
   "cell_type": "code",
   "execution_count": null,
   "id": "e01d27be",
   "metadata": {},
   "outputs": [],
   "source": [
    "getListOfAllDrives(con)"
   ]
  },
  {
   "cell_type": "code",
   "execution_count": null,
   "id": "5a24cbef",
   "metadata": {},
   "outputs": [],
   "source": []
  },
  {
   "cell_type": "code",
   "execution_count": null,
   "id": "afa03aef",
   "metadata": {},
   "outputs": [],
   "source": []
  },
  {
   "cell_type": "code",
   "execution_count": 38,
   "id": "a46caeb3",
   "metadata": {},
   "outputs": [],
   "source": [
    "con.close()"
   ]
  },
  {
   "cell_type": "code",
   "execution_count": null,
   "id": "e0389517",
   "metadata": {},
   "outputs": [],
   "source": []
  }
 ],
 "metadata": {
  "kernelspec": {
   "display_name": "Python 3 (ipykernel)",
   "language": "python",
   "name": "python3"
  },
  "language_info": {
   "codemirror_mode": {
    "name": "ipython",
    "version": 3
   },
   "file_extension": ".py",
   "mimetype": "text/x-python",
   "name": "python",
   "nbconvert_exporter": "python",
   "pygments_lexer": "ipython3",
   "version": "3.9.7"
  }
 },
 "nbformat": 4,
 "nbformat_minor": 5
}
