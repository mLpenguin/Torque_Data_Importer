{
 "cells": [
  {
   "cell_type": "code",
   "execution_count": null,
   "id": "fb62cc3d",
   "metadata": {},
   "outputs": [],
   "source": [
    "DATA_PATH = './Data'"
   ]
  },
  {
   "cell_type": "code",
   "execution_count": null,
   "id": "fc0c9f32",
   "metadata": {},
   "outputs": [],
   "source": [
    "import sqlite3 as sq"
   ]
  },
  {
   "cell_type": "code",
   "execution_count": null,
   "id": "b4cfa1c2",
   "metadata": {},
   "outputs": [],
   "source": [
    "databaseName = 'torque.db'\n",
    "importedTableName = 'importedFolderName'"
   ]
  },
  {
   "cell_type": "markdown",
   "id": "c7851f93",
   "metadata": {},
   "source": [
    "# Check If New Files To Import"
   ]
  },
  {
   "cell_type": "code",
   "execution_count": null,
   "id": "f5463bba",
   "metadata": {},
   "outputs": [],
   "source": [
    "import os\n",
    "from glob import glob"
   ]
  },
  {
   "cell_type": "code",
   "execution_count": null,
   "id": "348b61e0",
   "metadata": {},
   "outputs": [],
   "source": [
    "def isDataInLog(dataEntry):\n",
    "    \n",
    "    \n",
    "    con = sq.connect(databaseName)\n",
    "    cur = con.cursor()\n",
    "    try:\n",
    "        cur.execute(f\"\"\"SELECT Folder\n",
    "                    FROM {importedTableName}\n",
    "                    WHERE folder={dataEntry}\"\"\")\n",
    "    except:\n",
    "        result=False\n",
    "\n",
    "    # Fetch one result from the query because it\n",
    "    # doesn't matter how many records are returned.\n",
    "    # If it returns just one result, then you know\n",
    "    # that a record already exists in the table.\n",
    "    # If no results are pulled from the query, then\n",
    "    # fetchone will return None.\n",
    "    result = cur.fetchone()\n",
    "    \n",
    "    con.close()\n",
    "\n",
    "    if result:\n",
    "        return True\n",
    "    else:\n",
    "        return False"
   ]
  },
  {
   "cell_type": "code",
   "execution_count": null,
   "id": "76555fc6",
   "metadata": {},
   "outputs": [],
   "source": [
    "Filter = \"trackLog.csv\"\n",
    "all_csv_files = [file\n",
    "                 for path, subdir, files in os.walk(DATA_PATH)\n",
    "                 for file in glob(os.path.join(path, Filter))]"
   ]
  },
  {
   "cell_type": "code",
   "execution_count": null,
   "id": "2663ff32",
   "metadata": {},
   "outputs": [],
   "source": [
    "print(f\"{len(all_csv_files)} files in data folder\")"
   ]
  },
  {
   "cell_type": "code",
   "execution_count": null,
   "id": "eb5a3bad",
   "metadata": {},
   "outputs": [],
   "source": [
    "dataToImport=[]\n",
    "\n",
    "for x in range(len(all_csv_files)):\n",
    "    folderName = all_csv_files[x].split('\\\\')[-2]\n",
    "    \n",
    "    if not isDataInLog(folderName):\n",
    "        dataToImport.append(all_csv_files[x])\n",
    "        \n"
   ]
  },
  {
   "cell_type": "code",
   "execution_count": null,
   "id": "cf7d5835",
   "metadata": {},
   "outputs": [],
   "source": [
    "if len(dataToImport)==0:\n",
    "    print(\"No files left to import. Quitting\")\n",
    "    exit()\n",
    "else:\n",
    "    print(f\"Importing {len(dataToImport)} files\")"
   ]
  },
  {
   "cell_type": "markdown",
   "id": "9f862a36",
   "metadata": {},
   "source": [
    "# Convert CSV to Dataframe"
   ]
  },
  {
   "cell_type": "code",
   "execution_count": null,
   "id": "36421cd5",
   "metadata": {},
   "outputs": [],
   "source": [
    "import pandas as pd\n",
    "import numpy as np"
   ]
  },
  {
   "cell_type": "code",
   "execution_count": null,
   "id": "f68fad2f",
   "metadata": {},
   "outputs": [],
   "source": [
    "import csv\n",
    "def readCSV(fileName):\n",
    "    outputArray = []\n",
    "    with open(fileName, 'r') as file:\n",
    "        reader = csv.reader(file, quoting=csv.QUOTE_ALL, skipinitialspace=True)\n",
    "        header = next(reader)\n",
    "        #next(reader, None)  # skip the headers\n",
    "        \n",
    "        for row in reader:\n",
    "            temp = []\n",
    "            for i in range(0,len(row)):\n",
    "                if row[i] != '':\n",
    "                    temp.append(row[i])\n",
    "            #print (row[0])\n",
    "            outputArray.append(temp)\n",
    "    return outputArray, header"
   ]
  },
  {
   "cell_type": "code",
   "execution_count": null,
   "id": "f8254fc9",
   "metadata": {},
   "outputs": [],
   "source": [
    "def cleanUpDf(dataframe):\n",
    "\n",
    "    df = pd.concat(dataframe, axis=0, ignore_index=True)\n",
    "    df = df.drop('GPS Time', axis=1)\n",
    "    df['Device Time'] = pd.to_datetime(df['Device Time'])\n",
    "    df = df.set_index('Device Time')\n",
    "    df = df.replace(' ', \"_\")\n",
    "\n",
    "    #replace null values with nan\n",
    "    df = df.replace('-', np.NaN)\n",
    "\n",
    "    #clean up column names\n",
    "    try:\n",
    "        df['Speed (OBD)(km/h)'] = df['Speed (OBD)(km/h)'].str.replace(\",\", \"\").astype(float)\n",
    "    except:\n",
    "        pass\n",
    "    try:\n",
    "        df.columns = df.columns.str.replace('Â', '') #fix temp column names\n",
    "    except:\n",
    "        pass\n",
    "    try:\n",
    "        df.columns = df.columns.str.replace('â‚‚', '2') #fix co2 column names\n",
    "    except:\n",
    "        pass\n",
    "    \n",
    "    df = df.apply(pd.to_numeric)\n",
    "\n",
    "    return df"
   ]
  },
  {
   "cell_type": "code",
   "execution_count": null,
   "id": "c4a92d50",
   "metadata": {},
   "outputs": [],
   "source": [
    "masterData = []\n",
    "\n",
    "\n",
    "for x in range(len(dataToImport)):\n",
    "    data, header = readCSV(dataToImport[x])\n",
    "    if len(data) != 0:\n",
    "        df = pd.DataFrame(data = data, \n",
    "                    #index = [\"Row_1\", \"Row_2\"], \n",
    "                    columns = header)\n",
    "        df['Start Drive Time'] = dataToImport[x].split('\\\\')[-2]\n",
    "        masterData.append(df)\n",
    "    \n",
    "df = cleanUpDf(masterData)\n"
   ]
  },
  {
   "cell_type": "code",
   "execution_count": null,
   "id": "dff17cee",
   "metadata": {},
   "outputs": [],
   "source": [
    "df.head(2)"
   ]
  },
  {
   "cell_type": "code",
   "execution_count": null,
   "id": "2bc05f2d",
   "metadata": {},
   "outputs": [],
   "source": [
    "for col in df.columns:\n",
    "    print(col)"
   ]
  },
  {
   "cell_type": "code",
   "execution_count": null,
   "id": "a0a66877",
   "metadata": {},
   "outputs": [],
   "source": [
    "df.dtypes"
   ]
  },
  {
   "cell_type": "markdown",
   "id": "bfb5de36",
   "metadata": {},
   "source": [
    "# Move Read Data to Compleated Folder"
   ]
  },
  {
   "cell_type": "raw",
   "id": "434b95ab",
   "metadata": {},
   "source": [
    "import shutil"
   ]
  },
  {
   "cell_type": "raw",
   "id": "c3ce1eb0",
   "metadata": {},
   "source": [
    "for x in range(len(all_csv_files)):\n",
    "    folderName = all_csv_files[x].split('\\\\')\n",
    "    folderName='\\\\'.join(folderName[len(folderName)-2:-1])\n",
    "    target = COMPLEATED_PATH+'\\\\'+folderName\n",
    "    original = IMPORT_PATH+'\\\\'+folderName\n",
    "    shutil.move(original, target)"
   ]
  },
  {
   "cell_type": "raw",
   "id": "83e25411",
   "metadata": {},
   "source": []
  },
  {
   "cell_type": "markdown",
   "id": "16be3461",
   "metadata": {},
   "source": [
    "# Convert Dataframe to Database"
   ]
  },
  {
   "cell_type": "code",
   "execution_count": null,
   "id": "54fa38a0",
   "metadata": {},
   "outputs": [],
   "source": [
    "tableName = \"logData\"\n",
    "tempTableName = \"importData\""
   ]
  },
  {
   "cell_type": "code",
   "execution_count": null,
   "id": "284c4266",
   "metadata": {},
   "outputs": [],
   "source": [
    "def sqlColumnFormat(l):\n",
    "    \n",
    "    temp = []\n",
    "    \n",
    "    for x in range(len(l)):\n",
    "        temp.append(f\"\\\"{l[x]}\\\"\")\n",
    "    \n",
    "    output = ','.join(temp)\n",
    "    return output"
   ]
  },
  {
   "cell_type": "code",
   "execution_count": null,
   "id": "18dbb32d",
   "metadata": {},
   "outputs": [],
   "source": [
    "con = sq.connect(databaseName)\n",
    "cur = con.cursor()\n",
    "cur.execute(f'''SELECT count(name) FROM sqlite_master WHERE type='table' AND name='{tableName}' ''')\n",
    "\n",
    "#if the count is 1, then table exists\n",
    "if cur.fetchone()[0]==0:\n",
    "\n",
    "    print('Table doesn\\'t exist')\n",
    "    #Create new table\n",
    "    df.to_sql(tableName, con, if_exists='append', index=True) # writes to database\n",
    "    \n",
    "    with con: #Make unique\n",
    "        con.execute(\"DROP INDEX \\\"ix_logData_Device Time\\\"\")\n",
    "        con.execute(\"CREATE UNIQUE INDEX \\\"ix_logData_Device Time\\\" ON \\\"logData\\\" (\\\"Device Time\\\")\")\n",
    "\n",
    "else:\n",
    "    print('Table exists. Appending')\n",
    "    df.to_sql(tempTableName, con, if_exists='replace', index=True) # writes to database\n",
    "    \n",
    "    #get column names\n",
    "    cur.execute(\"select * from %s where 1=0;\" % \"logData\")\n",
    "    logDataColumns = [d[0] for d in cur.description]\n",
    "    cur.execute(\"select * from %s where 1=0;\" % \"importData\")\n",
    "    importDataColumns = [d[0] for d in cur.description]\n",
    "    \n",
    "    newColumns = list(set(importDataColumns) - set(logDataColumns))\n",
    "    \n",
    "    if len(newColumns) >= 1:\n",
    "    \n",
    "        print(f\"New Columns: {sqlColumnFormat(newColumns)}\")\n",
    "\n",
    "        for x in range(len(newColumns)):\n",
    "            columnName = newColumns[x]\n",
    "        \n",
    "            with con:\n",
    "                con.execute(f\"ALTER TABLE {tableName} ADD COLUMN \\\"{columnName}\\\" TEXT\")\n",
    "            print(f\"Adding column {columnName} to {tableName}\")\n",
    "    \n",
    "    \n",
    "    mergeData = f'''INSERT into {tableName} ({sqlColumnFormat(importDataColumns)})\n",
    "    SELECT {sqlColumnFormat(importDataColumns)}\n",
    "    FROM {tempTableName} \n",
    "    WHERE \"Device Time\" NOT IN (SELECT {tableName}.\"Device Time\" FROM {tableName});'''\n",
    "\n",
    "    #print (mergeData)\n",
    "    with con:\n",
    "        con.execute(mergeData)\n",
    "        con.execute(f\"DROP TABLE IF EXISTS {tempTableName};\")\n",
    "\n",
    "print(\"Done\")\n",
    "con.close() # good practice: close connection"
   ]
  },
  {
   "cell_type": "code",
   "execution_count": null,
   "id": "1c9efced",
   "metadata": {},
   "outputs": [],
   "source": []
  },
  {
   "cell_type": "markdown",
   "id": "af160c0a",
   "metadata": {},
   "source": [
    "# Add Processed Data To List"
   ]
  },
  {
   "cell_type": "code",
   "execution_count": null,
   "id": "5049b3fd",
   "metadata": {},
   "outputs": [],
   "source": [
    "tmp = []\n",
    "for x in range(len(dataToImport)):\n",
    "    tmp.append(dataToImport[x].split('\\\\')[-2])\n",
    "\n",
    "importedFolders = pd.DataFrame(tmp, columns =['Folder']).apply(pd.to_numeric)\n",
    "importedFolders = importedFolders.set_index('Folder')"
   ]
  },
  {
   "cell_type": "code",
   "execution_count": null,
   "id": "c0b4f707",
   "metadata": {},
   "outputs": [],
   "source": [
    "con = sq.connect(databaseName)\n",
    "cur = con.cursor()\n",
    "cur.execute(f'''SELECT count(name) FROM sqlite_master WHERE type='table' AND name='{importedTableName}' ''')\n",
    "\n",
    "#if the count is 1, then table exists\n",
    "if cur.fetchone()[0]==0:\n",
    "\n",
    "    print('Table doesn\\'t exist')\n",
    "    #Create new table\n",
    "    importedFolders.to_sql(importedTableName, con, if_exists='append', index=True) # writes to database\n",
    "    \n",
    "    with con: #Make unique\n",
    "        con.execute(\"DROP INDEX \\\"ix_importedFolderName_Folder\\\"\")\n",
    "        con.execute(\"CREATE UNIQUE INDEX \\\"ix_importedFolderName_Folder\\\" ON \\\"importedFolderName\\\" (\\\"Folder\\\")\")\n",
    "\n",
    "else:\n",
    "    print('Table exists. Appending')\n",
    "    importedFolders.to_sql(tempTableName, con, if_exists='replace', index=True) # writes to database\n",
    "    \n",
    "    \n",
    "    mergeData = f'''INSERT into {importedTableName} (Folder)\n",
    "    SELECT Folder\n",
    "    FROM {tempTableName} \n",
    "    WHERE \"Folder\" NOT IN (SELECT {importedTableName}.\"Folder\" FROM {importedTableName});'''\n",
    "\n",
    "    #print (mergeData)\n",
    "    with con:\n",
    "        con.execute(mergeData)\n",
    "        con.execute(f\"DROP TABLE IF EXISTS {tempTableName};\")\n",
    "    \n",
    "con.close()"
   ]
  },
  {
   "cell_type": "code",
   "execution_count": null,
   "id": "72880f82",
   "metadata": {},
   "outputs": [],
   "source": []
  }
 ],
 "metadata": {
  "kernelspec": {
   "display_name": "Python 3 (ipykernel)",
   "language": "python",
   "name": "python3"
  },
  "language_info": {
   "codemirror_mode": {
    "name": "ipython",
    "version": 3
   },
   "file_extension": ".py",
   "mimetype": "text/x-python",
   "name": "python",
   "nbconvert_exporter": "python",
   "pygments_lexer": "ipython3",
   "version": "3.9.7"
  }
 },
 "nbformat": 4,
 "nbformat_minor": 5
}
