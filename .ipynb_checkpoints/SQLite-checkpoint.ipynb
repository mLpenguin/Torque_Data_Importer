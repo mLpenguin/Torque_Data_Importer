{
 "cells": [
  {
   "cell_type": "code",
   "execution_count": 1,
   "id": "c9c22f6e",
   "metadata": {},
   "outputs": [],
   "source": [
    "import pandas as pd"
   ]
  },
  {
   "cell_type": "code",
   "execution_count": 2,
   "id": "4792c110",
   "metadata": {},
   "outputs": [],
   "source": [
    "df = pd.read_pickle(\"dataframe.pkl\")"
   ]
  },
  {
   "cell_type": "code",
   "execution_count": 3,
   "id": "ae9c5f7c",
   "metadata": {},
   "outputs": [],
   "source": [
    "import sqlite3 as sq"
   ]
  },
  {
   "cell_type": "code",
   "execution_count": 4,
   "id": "0fc7893d",
   "metadata": {},
   "outputs": [],
   "source": [
    "databaseName = 'torque.db'\n",
    "tableName = \"logData\"\n",
    "tempTableName = \"importData\""
   ]
  },
  {
   "cell_type": "code",
   "execution_count": 5,
   "id": "74f91755",
   "metadata": {},
   "outputs": [],
   "source": [
    "def sqlColumnFormat(l):\n",
    "    \n",
    "    temp = []\n",
    "    \n",
    "    for x in range(len(l)):\n",
    "        temp.append(f\"\\\"{l[x]}\\\"\")\n",
    "    \n",
    "    output = ','.join(temp)\n",
    "    return output"
   ]
  },
  {
   "cell_type": "code",
   "execution_count": 6,
   "id": "6d94f111",
   "metadata": {},
   "outputs": [
    {
     "name": "stdout",
     "output_type": "stream",
     "text": [
      "INSERT into logData (\"Device Time\",\"Longitude\",\"Latitude\",\"GPS Speed(km/h)\",\"Horizontal Dilution of Precision\",\"Altitude(m)\",\"Bearing\",\"Gravity X(G)\",\"Gravity Y(G)\",\"Gravity Z(G)\",\"Air Fuel Ratio(Measured)(:1)\",\"Ambient air temp(°F)\",\"Engine Coolant Temperature(°F)\",\"Engine Load(%)\",\"Engine RPM(rpm)\",\"Fuel Level (From Engine ECU)(%)\",\"Horsepower (At the wheels)(hp)\",\"Intake Air Temperature(°F)\",\"Intake Manifold Pressure(kpa)\",\"Speed (OBD)(km/h)\",\"Torque(ft-lb)\",\"Voltage (Control Module)(V)\",\"Fuel flow rate/minute(cc/min)\",\"Miles Per Gallon(Long Term Average)(mpg)\",\"CO2 in g/km (Average)(g/km)\",\"CO2 in g/km (Instantaneous)(g/km)\",\"Miles Per Gallon(Instant)(mpg)\",\"Start Drive Time\")\n",
      "    SELECT \"Device Time\",\"Longitude\",\"Latitude\",\"GPS Speed(km/h)\",\"Horizontal Dilution of Precision\",\"Altitude(m)\",\"Bearing\",\"Gravity X(G)\",\"Gravity Y(G)\",\"Gravity Z(G)\",\"Air Fuel Ratio(Measured)(:1)\",\"Ambient air temp(°F)\",\"Engine Coolant Temperature(°F)\",\"Engine Load(%)\",\"Engine RPM(rpm)\",\"Fuel Level (From Engine ECU)(%)\",\"Horsepower (At the wheels)(hp)\",\"Intake Air Temperature(°F)\",\"Intake Manifold Pressure(kpa)\",\"Speed (OBD)(km/h)\",\"Torque(ft-lb)\",\"Voltage (Control Module)(V)\",\"Fuel flow rate/minute(cc/min)\",\"Miles Per Gallon(Long Term Average)(mpg)\",\"CO2 in g/km (Average)(g/km)\",\"CO2 in g/km (Instantaneous)(g/km)\",\"Miles Per Gallon(Instant)(mpg)\",\"Start Drive Time\"\n",
      "    FROM importData \n",
      "    WHERE \"Device Time\" NOT IN (SELECT logData.\"Device Time\" FROM logData);\n"
     ]
    }
   ],
   "source": [
    "con = sq.connect(databaseName)\n",
    "cur = con.cursor()\n",
    "cur.execute(f'''SELECT count(name) FROM sqlite_master WHERE type='table' AND name='{tableName}' ''')\n",
    "\n",
    "#if the count is 1, then table exists\n",
    "if cur.fetchone()[0]==0:\n",
    "\n",
    "    print('Table doesn\\'t exist')\n",
    "    #Create new table\n",
    "    df.to_sql(tableName, con, if_exists='append', index=True) # writes to database\n",
    "    \n",
    "    with con: #Make unique\n",
    "        con.execute(\"DROP INDEX \\\"ix_logData_Device Time\\\"\")\n",
    "        con.execute(\"CREATE UNIQUE INDEX \\\"ix_logData_Device Time\\\" ON \\\"logData\\\" (\\\"Device Time\\\")\")\n",
    "\n",
    "else:\n",
    "\n",
    "    df.to_sql(tempTableName, con, if_exists='replace', index=True) # writes to database\n",
    "    \n",
    "    #get column names\n",
    "    cur.execute(\"select * from %s where 1=0;\" % \"logData\")\n",
    "    logDataColumns = [d[0] for d in cur.description]\n",
    "    cur.execute(\"select * from %s where 1=0;\" % \"importData\")\n",
    "    importDataColumns = [d[0] for d in cur.description]\n",
    "    \n",
    "    newColumns = list(set(importDataColumns) - set(logDataColumns))\n",
    "    \n",
    "    if len(newColumns) >= 1:\n",
    "    \n",
    "        print(f\"New Columns: {sqlColumnFormat(newColumns)}\")\n",
    "\n",
    "        for x in range(len(newColumns)):\n",
    "            columnName = newColumns[x]\n",
    "        \n",
    "            with con:\n",
    "                con.execute(f\"ALTER TABLE {tableName} ADD COLUMN \\\"{columnName}\\\" TEXT\")\n",
    "            print(f\"Adding column {columnName} to {tableName}\")\n",
    "    \n",
    "    \n",
    "    mergeData = f'''INSERT into logData ({sqlColumnFormat(importDataColumns)})\n",
    "    SELECT {sqlColumnFormat(importDataColumns)}\n",
    "    FROM importData \n",
    "    WHERE \"Device Time\" NOT IN (SELECT logData.\"Device Time\" FROM logData);'''\n",
    "\n",
    "    print (mergeData)\n",
    "    #with con:\n",
    "        #con.execute(mergeData)\n",
    "\n",
    "con.close() # good practice: close connection"
   ]
  },
  {
   "cell_type": "code",
   "execution_count": null,
   "id": "d3a9fa1d",
   "metadata": {},
   "outputs": [],
   "source": []
  }
 ],
 "metadata": {
  "kernelspec": {
   "display_name": "Python 3 (ipykernel)",
   "language": "python",
   "name": "python3"
  },
  "language_info": {
   "codemirror_mode": {
    "name": "ipython",
    "version": 3
   },
   "file_extension": ".py",
   "mimetype": "text/x-python",
   "name": "python",
   "nbconvert_exporter": "python",
   "pygments_lexer": "ipython3",
   "version": "3.9.7"
  }
 },
 "nbformat": 4,
 "nbformat_minor": 5
}
