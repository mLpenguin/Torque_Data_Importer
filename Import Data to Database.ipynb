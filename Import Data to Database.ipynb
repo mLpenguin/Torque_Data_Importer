{
 "cells": [
  {
   "cell_type": "code",
   "execution_count": 1,
   "id": "fb62cc3d",
   "metadata": {},
   "outputs": [],
   "source": [
    "DATA_PATH = './Data'"
   ]
  },
  {
   "cell_type": "code",
   "execution_count": 2,
   "id": "fc0c9f32",
   "metadata": {},
   "outputs": [],
   "source": [
    "import sqlite3 as sq"
   ]
  },
  {
   "cell_type": "code",
   "execution_count": 3,
   "id": "b4cfa1c2",
   "metadata": {},
   "outputs": [],
   "source": [
    "databaseName = 'torque.db'\n",
    "importedTableName = 'importedFolderName'\n",
    "\n",
    "tableName = \"logData\"\n",
    "tempTableName = \"importData\""
   ]
  },
  {
   "cell_type": "markdown",
   "id": "c7851f93",
   "metadata": {},
   "source": [
    "# Check If New Files To Import"
   ]
  },
  {
   "cell_type": "code",
   "execution_count": 4,
   "id": "f5463bba",
   "metadata": {},
   "outputs": [],
   "source": [
    "import os\n",
    "from glob import glob"
   ]
  },
  {
   "cell_type": "code",
   "execution_count": 5,
   "id": "348b61e0",
   "metadata": {},
   "outputs": [],
   "source": [
    "def isDataInLog(dataEntry):\n",
    "    \n",
    "    \n",
    "    con = sq.connect(databaseName)\n",
    "    cur = con.cursor()\n",
    "    try:\n",
    "        cur.execute(f\"\"\"SELECT Folder\n",
    "                    FROM {importedTableName}\n",
    "                    WHERE folder={dataEntry}\"\"\")\n",
    "    except:\n",
    "        result=False\n",
    "\n",
    "    # Fetch one result from the query because it\n",
    "    # doesn't matter how many records are returned.\n",
    "    # If it returns just one result, then you know\n",
    "    # that a record already exists in the table.\n",
    "    # If no results are pulled from the query, then\n",
    "    # fetchone will return None.\n",
    "    result = cur.fetchone()\n",
    "    \n",
    "    con.close()\n",
    "\n",
    "    if result:\n",
    "        return True\n",
    "    else:\n",
    "        return False"
   ]
  },
  {
   "cell_type": "code",
   "execution_count": 6,
   "id": "76555fc6",
   "metadata": {},
   "outputs": [],
   "source": [
    "Filter = \"trackLog.csv\"\n",
    "all_csv_files = [file\n",
    "                 for path, subdir, files in os.walk(DATA_PATH)\n",
    "                 for file in glob(os.path.join(path, Filter))]"
   ]
  },
  {
   "cell_type": "code",
   "execution_count": 7,
   "id": "2663ff32",
   "metadata": {},
   "outputs": [
    {
     "name": "stdout",
     "output_type": "stream",
     "text": [
      "457 files in data folder\n"
     ]
    }
   ],
   "source": [
    "print(f\"{len(all_csv_files)} files in data folder\")"
   ]
  },
  {
   "cell_type": "code",
   "execution_count": 8,
   "id": "eb5a3bad",
   "metadata": {},
   "outputs": [],
   "source": [
    "dataToImport=[]\n",
    "\n",
    "for x in range(len(all_csv_files)):\n",
    "    folderName = all_csv_files[x].split('\\\\')[-2]\n",
    "    \n",
    "    if not isDataInLog(folderName):\n",
    "        dataToImport.append(all_csv_files[x])\n",
    "        \n"
   ]
  },
  {
   "cell_type": "code",
   "execution_count": 9,
   "id": "cf7d5835",
   "metadata": {},
   "outputs": [
    {
     "name": "stdout",
     "output_type": "stream",
     "text": [
      "Importing 457 files\n"
     ]
    }
   ],
   "source": [
    "if len(dataToImport)==0:\n",
    "    print(\"No files left to import. Quitting\")\n",
    "    exit()\n",
    "else:\n",
    "    print(f\"Importing {len(dataToImport)} files\")"
   ]
  },
  {
   "cell_type": "markdown",
   "id": "9f862a36",
   "metadata": {},
   "source": [
    "# Convert CSV to Dataframe"
   ]
  },
  {
   "cell_type": "code",
   "execution_count": 10,
   "id": "36421cd5",
   "metadata": {},
   "outputs": [],
   "source": [
    "import pandas as pd\n",
    "import numpy as np"
   ]
  },
  {
   "cell_type": "code",
   "execution_count": 11,
   "id": "f68fad2f",
   "metadata": {},
   "outputs": [],
   "source": [
    "import csv\n",
    "def readCSV(fileName):\n",
    "    outputArray = []\n",
    "    with open(fileName, 'r') as file:\n",
    "        reader = csv.reader(file, quoting=csv.QUOTE_ALL, skipinitialspace=True)\n",
    "        header = next(reader)\n",
    "        #next(reader, None)  # skip the headers\n",
    "        \n",
    "        for row in reader:\n",
    "            temp = []\n",
    "            for i in range(0,len(row)):\n",
    "                if row[i] != '':\n",
    "                    temp.append(row[i])\n",
    "            #print (row[0])\n",
    "            outputArray.append(temp)\n",
    "    return outputArray, header"
   ]
  },
  {
   "cell_type": "code",
   "execution_count": 12,
   "id": "f8254fc9",
   "metadata": {},
   "outputs": [],
   "source": [
    "def cleanUpDf(dataframe):\n",
    "\n",
    "    df = pd.concat(dataframe, axis=0, ignore_index=True)\n",
    "    df = df.drop('GPS Time', axis=1)\n",
    "    df['Device Time'] = pd.to_datetime(df['Device Time'])\n",
    "    df = df.set_index('Device Time')\n",
    "    df = df.replace(' ', \"_\")\n",
    "\n",
    "    #replace null values with nan\n",
    "    df = df.replace('-', np.NaN)\n",
    "\n",
    "    #clean up column names\n",
    "    try:\n",
    "        df['Speed (OBD)(km/h)'] = df['Speed (OBD)(km/h)'].str.replace(\",\", \"\").astype(float)\n",
    "    except:\n",
    "        pass\n",
    "    try:\n",
    "        df.columns = df.columns.str.replace('Â', '') #fix temp column names\n",
    "    except:\n",
    "        pass\n",
    "    try:\n",
    "        df.columns = df.columns.str.replace('â‚‚', '2') #fix co2 column names\n",
    "    except:\n",
    "        pass\n",
    "    \n",
    "    df = df.apply(pd.to_numeric)\n",
    "\n",
    "    return df"
   ]
  },
  {
   "cell_type": "code",
   "execution_count": 13,
   "id": "c4a92d50",
   "metadata": {},
   "outputs": [],
   "source": [
    "masterData = []\n",
    "\n",
    "\n",
    "for x in range(len(dataToImport)):\n",
    "    data, header = readCSV(dataToImport[x])\n",
    "    if len(data) != 0:\n",
    "        df = pd.DataFrame(data = data, \n",
    "                    #index = [\"Row_1\", \"Row_2\"], \n",
    "                    columns = header)\n",
    "        df['Start Drive Time'] = dataToImport[x].split('\\\\')[-2]\n",
    "        masterData.append(df)\n",
    "    \n",
    "df = cleanUpDf(masterData)\n"
   ]
  },
  {
   "cell_type": "code",
   "execution_count": 14,
   "id": "dff17cee",
   "metadata": {},
   "outputs": [
    {
     "data": {
      "text/html": [
       "<div>\n",
       "<style scoped>\n",
       "    .dataframe tbody tr th:only-of-type {\n",
       "        vertical-align: middle;\n",
       "    }\n",
       "\n",
       "    .dataframe tbody tr th {\n",
       "        vertical-align: top;\n",
       "    }\n",
       "\n",
       "    .dataframe thead th {\n",
       "        text-align: right;\n",
       "    }\n",
       "</style>\n",
       "<table border=\"1\" class=\"dataframe\">\n",
       "  <thead>\n",
       "    <tr style=\"text-align: right;\">\n",
       "      <th></th>\n",
       "      <th>Longitude</th>\n",
       "      <th>Latitude</th>\n",
       "      <th>GPS Speed(km/h)</th>\n",
       "      <th>Horizontal Dilution of Precision</th>\n",
       "      <th>Altitude(m)</th>\n",
       "      <th>Bearing</th>\n",
       "      <th>Gravity X(G)</th>\n",
       "      <th>Gravity Y(G)</th>\n",
       "      <th>Gravity Z(G)</th>\n",
       "      <th>Air Fuel Ratio(Measured)(:1)</th>\n",
       "      <th>...</th>\n",
       "      <th>Torque(ft-lb)</th>\n",
       "      <th>Voltage (Control Module)(V)</th>\n",
       "      <th>Fuel flow rate/minute(cc/min)</th>\n",
       "      <th>Miles Per Gallon(Long Term Average)(mpg)</th>\n",
       "      <th>CO2 in g/km (Average)(g/km)</th>\n",
       "      <th>CO2 in g/km (Instantaneous)(g/km)</th>\n",
       "      <th>Miles Per Gallon(Instant)(mpg)</th>\n",
       "      <th>Start Drive Time</th>\n",
       "      <th>Air Fuel Ratio(Commanded)(:1)</th>\n",
       "      <th>Turbo Boost &amp; Vacuum Gauge(bar)</th>\n",
       "    </tr>\n",
       "    <tr>\n",
       "      <th>Device Time</th>\n",
       "      <th></th>\n",
       "      <th></th>\n",
       "      <th></th>\n",
       "      <th></th>\n",
       "      <th></th>\n",
       "      <th></th>\n",
       "      <th></th>\n",
       "      <th></th>\n",
       "      <th></th>\n",
       "      <th></th>\n",
       "      <th></th>\n",
       "      <th></th>\n",
       "      <th></th>\n",
       "      <th></th>\n",
       "      <th></th>\n",
       "      <th></th>\n",
       "      <th></th>\n",
       "      <th></th>\n",
       "      <th></th>\n",
       "      <th></th>\n",
       "      <th></th>\n",
       "    </tr>\n",
       "  </thead>\n",
       "  <tbody>\n",
       "    <tr>\n",
       "      <th>2021-08-02 17:22:59.212</th>\n",
       "      <td>-121.267648</td>\n",
       "      <td>38.622686</td>\n",
       "      <td>0.0</td>\n",
       "      <td>50.384003</td>\n",
       "      <td>-10.786743</td>\n",
       "      <td>0.0</td>\n",
       "      <td>0.25924</td>\n",
       "      <td>0.496926</td>\n",
       "      <td>0.68341</td>\n",
       "      <td>15.030175</td>\n",
       "      <td>...</td>\n",
       "      <td>10.123069</td>\n",
       "      <td>14.478</td>\n",
       "      <td>35.745640</td>\n",
       "      <td>26.942902</td>\n",
       "      <td>NaN</td>\n",
       "      <td>NaN</td>\n",
       "      <td>7.990964</td>\n",
       "      <td>1627950149258</td>\n",
       "      <td>NaN</td>\n",
       "      <td>NaN</td>\n",
       "    </tr>\n",
       "    <tr>\n",
       "      <th>2021-08-02 17:23:00.213</th>\n",
       "      <td>-121.267687</td>\n",
       "      <td>38.622644</td>\n",
       "      <td>0.0</td>\n",
       "      <td>34.304000</td>\n",
       "      <td>-18.479309</td>\n",
       "      <td>0.0</td>\n",
       "      <td>0.25924</td>\n",
       "      <td>0.496926</td>\n",
       "      <td>0.68341</td>\n",
       "      <td>14.987109</td>\n",
       "      <td>...</td>\n",
       "      <td>NaN</td>\n",
       "      <td>14.274</td>\n",
       "      <td>36.595886</td>\n",
       "      <td>26.942873</td>\n",
       "      <td>NaN</td>\n",
       "      <td>NaN</td>\n",
       "      <td>6.427349</td>\n",
       "      <td>1627950149258</td>\n",
       "      <td>NaN</td>\n",
       "      <td>NaN</td>\n",
       "    </tr>\n",
       "  </tbody>\n",
       "</table>\n",
       "<p>2 rows × 29 columns</p>\n",
       "</div>"
      ],
      "text/plain": [
       "                          Longitude   Latitude  GPS Speed(km/h)  \\\n",
       "Device Time                                                       \n",
       "2021-08-02 17:22:59.212 -121.267648  38.622686              0.0   \n",
       "2021-08-02 17:23:00.213 -121.267687  38.622644              0.0   \n",
       "\n",
       "                         Horizontal Dilution of Precision  Altitude(m)  \\\n",
       "Device Time                                                              \n",
       "2021-08-02 17:22:59.212                         50.384003   -10.786743   \n",
       "2021-08-02 17:23:00.213                         34.304000   -18.479309   \n",
       "\n",
       "                         Bearing  Gravity X(G)  Gravity Y(G)  Gravity Z(G)  \\\n",
       "Device Time                                                                  \n",
       "2021-08-02 17:22:59.212      0.0       0.25924      0.496926       0.68341   \n",
       "2021-08-02 17:23:00.213      0.0       0.25924      0.496926       0.68341   \n",
       "\n",
       "                         Air Fuel Ratio(Measured)(:1)  ...  Torque(ft-lb)  \\\n",
       "Device Time                                            ...                  \n",
       "2021-08-02 17:22:59.212                     15.030175  ...      10.123069   \n",
       "2021-08-02 17:23:00.213                     14.987109  ...            NaN   \n",
       "\n",
       "                         Voltage (Control Module)(V)  \\\n",
       "Device Time                                            \n",
       "2021-08-02 17:22:59.212                       14.478   \n",
       "2021-08-02 17:23:00.213                       14.274   \n",
       "\n",
       "                         Fuel flow rate/minute(cc/min)  \\\n",
       "Device Time                                              \n",
       "2021-08-02 17:22:59.212                      35.745640   \n",
       "2021-08-02 17:23:00.213                      36.595886   \n",
       "\n",
       "                         Miles Per Gallon(Long Term Average)(mpg)  \\\n",
       "Device Time                                                         \n",
       "2021-08-02 17:22:59.212                                 26.942902   \n",
       "2021-08-02 17:23:00.213                                 26.942873   \n",
       "\n",
       "                         CO2 in g/km (Average)(g/km)  \\\n",
       "Device Time                                            \n",
       "2021-08-02 17:22:59.212                          NaN   \n",
       "2021-08-02 17:23:00.213                          NaN   \n",
       "\n",
       "                         CO2 in g/km (Instantaneous)(g/km)  \\\n",
       "Device Time                                                  \n",
       "2021-08-02 17:22:59.212                                NaN   \n",
       "2021-08-02 17:23:00.213                                NaN   \n",
       "\n",
       "                         Miles Per Gallon(Instant)(mpg)  Start Drive Time  \\\n",
       "Device Time                                                                 \n",
       "2021-08-02 17:22:59.212                        7.990964     1627950149258   \n",
       "2021-08-02 17:23:00.213                        6.427349     1627950149258   \n",
       "\n",
       "                         Air Fuel Ratio(Commanded)(:1)  \\\n",
       "Device Time                                              \n",
       "2021-08-02 17:22:59.212                            NaN   \n",
       "2021-08-02 17:23:00.213                            NaN   \n",
       "\n",
       "                         Turbo Boost & Vacuum Gauge(bar)  \n",
       "Device Time                                               \n",
       "2021-08-02 17:22:59.212                              NaN  \n",
       "2021-08-02 17:23:00.213                              NaN  \n",
       "\n",
       "[2 rows x 29 columns]"
      ]
     },
     "execution_count": 14,
     "metadata": {},
     "output_type": "execute_result"
    }
   ],
   "source": [
    "df.head(2)"
   ]
  },
  {
   "cell_type": "code",
   "execution_count": 15,
   "id": "2bc05f2d",
   "metadata": {},
   "outputs": [
    {
     "name": "stdout",
     "output_type": "stream",
     "text": [
      "Longitude\n",
      "Latitude\n",
      "GPS Speed(km/h)\n",
      "Horizontal Dilution of Precision\n",
      "Altitude(m)\n",
      "Bearing\n",
      "Gravity X(G)\n",
      "Gravity Y(G)\n",
      "Gravity Z(G)\n",
      "Air Fuel Ratio(Measured)(:1)\n",
      "Ambient air temp(°F)\n",
      "Engine Coolant Temperature(°F)\n",
      "Engine Load(%)\n",
      "Engine RPM(rpm)\n",
      "Fuel Level (From Engine ECU)(%)\n",
      "Horsepower (At the wheels)(hp)\n",
      "Intake Air Temperature(°F)\n",
      "Intake Manifold Pressure(kpa)\n",
      "Speed (OBD)(km/h)\n",
      "Torque(ft-lb)\n",
      "Voltage (Control Module)(V)\n",
      "Fuel flow rate/minute(cc/min)\n",
      "Miles Per Gallon(Long Term Average)(mpg)\n",
      "CO2 in g/km (Average)(g/km)\n",
      "CO2 in g/km (Instantaneous)(g/km)\n",
      "Miles Per Gallon(Instant)(mpg)\n",
      "Start Drive Time\n",
      "Air Fuel Ratio(Commanded)(:1)\n",
      "Turbo Boost & Vacuum Gauge(bar)\n"
     ]
    }
   ],
   "source": [
    "for col in df.columns:\n",
    "    print(col)"
   ]
  },
  {
   "cell_type": "code",
   "execution_count": 16,
   "id": "a0a66877",
   "metadata": {},
   "outputs": [
    {
     "data": {
      "text/plain": [
       "Longitude                                   float64\n",
       "Latitude                                    float64\n",
       "GPS Speed(km/h)                             float64\n",
       "Horizontal Dilution of Precision            float64\n",
       "Altitude(m)                                 float64\n",
       "Bearing                                     float64\n",
       "Gravity X(G)                                float64\n",
       "Gravity Y(G)                                float64\n",
       "Gravity Z(G)                                float64\n",
       "Air Fuel Ratio(Measured)(:1)                float64\n",
       "Ambient air temp(°F)                        float64\n",
       "Engine Coolant Temperature(°F)              float64\n",
       "Engine Load(%)                              float64\n",
       "Engine RPM(rpm)                             float64\n",
       "Fuel Level (From Engine ECU)(%)             float64\n",
       "Horsepower (At the wheels)(hp)              float64\n",
       "Intake Air Temperature(°F)                  float64\n",
       "Intake Manifold Pressure(kpa)               float64\n",
       "Speed (OBD)(km/h)                           float64\n",
       "Torque(ft-lb)                               float64\n",
       "Voltage (Control Module)(V)                 float64\n",
       "Fuel flow rate/minute(cc/min)               float64\n",
       "Miles Per Gallon(Long Term Average)(mpg)    float64\n",
       "CO2 in g/km (Average)(g/km)                 float64\n",
       "CO2 in g/km (Instantaneous)(g/km)           float64\n",
       "Miles Per Gallon(Instant)(mpg)              float64\n",
       "Start Drive Time                              int64\n",
       "Air Fuel Ratio(Commanded)(:1)               float64\n",
       "Turbo Boost & Vacuum Gauge(bar)             float64\n",
       "dtype: object"
      ]
     },
     "execution_count": 16,
     "metadata": {},
     "output_type": "execute_result"
    }
   ],
   "source": [
    "df.dtypes"
   ]
  },
  {
   "cell_type": "markdown",
   "id": "bfb5de36",
   "metadata": {},
   "source": [
    "# Move Read Data to Compleated Folder"
   ]
  },
  {
   "cell_type": "raw",
   "id": "434b95ab",
   "metadata": {},
   "source": [
    "import shutil"
   ]
  },
  {
   "cell_type": "raw",
   "id": "c3ce1eb0",
   "metadata": {},
   "source": [
    "for x in range(len(all_csv_files)):\n",
    "    folderName = all_csv_files[x].split('\\\\')\n",
    "    folderName='\\\\'.join(folderName[len(folderName)-2:-1])\n",
    "    target = COMPLEATED_PATH+'\\\\'+folderName\n",
    "    original = IMPORT_PATH+'\\\\'+folderName\n",
    "    shutil.move(original, target)"
   ]
  },
  {
   "cell_type": "raw",
   "id": "83e25411",
   "metadata": {},
   "source": []
  },
  {
   "cell_type": "markdown",
   "id": "16be3461",
   "metadata": {},
   "source": [
    "# Convert Dataframe to Database"
   ]
  },
  {
   "cell_type": "code",
   "execution_count": 18,
   "id": "284c4266",
   "metadata": {},
   "outputs": [],
   "source": [
    "def sqlColumnFormat(l):\n",
    "    \n",
    "    temp = []\n",
    "    \n",
    "    for x in range(len(l)):\n",
    "        temp.append(f\"\\\"{l[x]}\\\"\")\n",
    "    \n",
    "    output = ','.join(temp)\n",
    "    return output"
   ]
  },
  {
   "cell_type": "code",
   "execution_count": 19,
   "id": "18dbb32d",
   "metadata": {},
   "outputs": [
    {
     "name": "stdout",
     "output_type": "stream",
     "text": [
      "Table doesn't exist\n",
      "Done\n"
     ]
    }
   ],
   "source": [
    "con = sq.connect(databaseName)\n",
    "cur = con.cursor()\n",
    "cur.execute(f'''SELECT count(name) FROM sqlite_master WHERE type='table' AND name='{tableName}' ''')\n",
    "\n",
    "#if the count is 1, then table exists\n",
    "if cur.fetchone()[0]==0:\n",
    "\n",
    "    print('Table doesn\\'t exist')\n",
    "    #Create new table\n",
    "    df.to_sql(tableName, con, if_exists='append', index=True) # writes to database\n",
    "    \n",
    "    with con: #Make unique\n",
    "        con.execute(\"DROP INDEX \\\"ix_logData_Device Time\\\"\")\n",
    "        con.execute(\"CREATE UNIQUE INDEX \\\"ix_logData_Device Time\\\" ON \\\"logData\\\" (\\\"Device Time\\\")\")\n",
    "\n",
    "else:\n",
    "    print('Table exists. Appending')\n",
    "    df.to_sql(tempTableName, con, if_exists='replace', index=True) # writes to database\n",
    "    \n",
    "    #get column names\n",
    "    cur.execute(\"select * from %s where 1=0;\" % \"logData\")\n",
    "    logDataColumns = [d[0] for d in cur.description]\n",
    "    cur.execute(\"select * from %s where 1=0;\" % \"importData\")\n",
    "    importDataColumns = [d[0] for d in cur.description]\n",
    "    \n",
    "    newColumns = list(set(importDataColumns) - set(logDataColumns))\n",
    "    \n",
    "    if len(newColumns) >= 1:\n",
    "    \n",
    "        print(f\"New Columns: {sqlColumnFormat(newColumns)}\")\n",
    "\n",
    "        for x in range(len(newColumns)):\n",
    "            columnName = newColumns[x]\n",
    "        \n",
    "            with con:\n",
    "                con.execute(f\"ALTER TABLE {tableName} ADD COLUMN \\\"{columnName}\\\" TEXT\")\n",
    "            print(f\"Adding column {columnName} to {tableName}\")\n",
    "    \n",
    "    \n",
    "    mergeData = f'''INSERT into {tableName} ({sqlColumnFormat(importDataColumns)})\n",
    "    SELECT {sqlColumnFormat(importDataColumns)}\n",
    "    FROM {tempTableName} \n",
    "    WHERE \"Device Time\" NOT IN (SELECT {tableName}.\"Device Time\" FROM {tableName});'''\n",
    "\n",
    "    #print (mergeData)\n",
    "    with con:\n",
    "        con.execute(mergeData)\n",
    "        con.execute(f\"DROP TABLE IF EXISTS {tempTableName};\")\n",
    "\n",
    "print(\"Done\")\n",
    "con.close() # good practice: close connection"
   ]
  },
  {
   "cell_type": "code",
   "execution_count": null,
   "id": "1c9efced",
   "metadata": {},
   "outputs": [],
   "source": []
  },
  {
   "cell_type": "markdown",
   "id": "af160c0a",
   "metadata": {},
   "source": [
    "# Add Processed Data To List"
   ]
  },
  {
   "cell_type": "code",
   "execution_count": 20,
   "id": "5049b3fd",
   "metadata": {},
   "outputs": [],
   "source": [
    "tmp = []\n",
    "for x in range(len(dataToImport)):\n",
    "    tmp.append(dataToImport[x].split('\\\\')[-2])\n",
    "\n",
    "importedFolders = pd.DataFrame(tmp, columns =['Folder']).apply(pd.to_numeric)\n",
    "importedFolders = importedFolders.set_index('Folder')"
   ]
  },
  {
   "cell_type": "code",
   "execution_count": 21,
   "id": "c0b4f707",
   "metadata": {},
   "outputs": [
    {
     "name": "stdout",
     "output_type": "stream",
     "text": [
      "Table doesn't exist\n"
     ]
    }
   ],
   "source": [
    "con = sq.connect(databaseName)\n",
    "cur = con.cursor()\n",
    "cur.execute(f'''SELECT count(name) FROM sqlite_master WHERE type='table' AND name='{importedTableName}' ''')\n",
    "\n",
    "#if the count is 1, then table exists\n",
    "if cur.fetchone()[0]==0:\n",
    "\n",
    "    print('Table doesn\\'t exist')\n",
    "    #Create new table\n",
    "    importedFolders.to_sql(importedTableName, con, if_exists='append', index=True) # writes to database\n",
    "    \n",
    "    with con: #Make unique\n",
    "        con.execute(\"DROP INDEX \\\"ix_importedFolderName_Folder\\\"\")\n",
    "        con.execute(\"CREATE UNIQUE INDEX \\\"ix_importedFolderName_Folder\\\" ON \\\"importedFolderName\\\" (\\\"Folder\\\")\")\n",
    "\n",
    "else:\n",
    "    print('Table exists. Appending')\n",
    "    importedFolders.to_sql(tempTableName, con, if_exists='replace', index=True) # writes to database\n",
    "    \n",
    "    \n",
    "    mergeData = f'''INSERT into {importedTableName} (Folder)\n",
    "    SELECT Folder\n",
    "    FROM {tempTableName} \n",
    "    WHERE \"Folder\" NOT IN (SELECT {importedTableName}.\"Folder\" FROM {importedTableName});'''\n",
    "\n",
    "    #print (mergeData)\n",
    "    with con:\n",
    "        con.execute(mergeData)\n",
    "        con.execute(f\"DROP TABLE IF EXISTS {tempTableName};\")\n",
    "    \n",
    "con.close()"
   ]
  },
  {
   "cell_type": "code",
   "execution_count": null,
   "id": "72880f82",
   "metadata": {},
   "outputs": [],
   "source": []
  }
 ],
 "metadata": {
  "kernelspec": {
   "display_name": "Python 3 (ipykernel)",
   "language": "python",
   "name": "python3"
  },
  "language_info": {
   "codemirror_mode": {
    "name": "ipython",
    "version": 3
   },
   "file_extension": ".py",
   "mimetype": "text/x-python",
   "name": "python",
   "nbconvert_exporter": "python",
   "pygments_lexer": "ipython3",
   "version": "3.9.7"
  }
 },
 "nbformat": 4,
 "nbformat_minor": 5
}
